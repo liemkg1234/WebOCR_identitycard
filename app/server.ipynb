{
  "nbformat": 4,
  "nbformat_minor": 0,
  "metadata": {
    "colab": {
      "name": "server.ipynb",
      "provenance": [],
      "collapsed_sections": []
    },
    "kernelspec": {
      "display_name": "Python 3",
      "name": "python3"
    },
    "language_info": {
      "name": "python"
    }
  },
  "cells": [
    {
      "cell_type": "code",
      "metadata": {
        "id": "pfkU2ouWxpHK"
      },
      "source": [
        "import os\n",
        "import torch\n",
        "import sys\n",
        "from PIL import Image\n",
        "import numpy as np\n",
        "import pandas as pd\n",
        "import cv2\n",
        "from google.colab import drive\n",
        "from google.colab.patches import cv2_imshow\n",
        "drive.mount('/content/drive/')"
      ],
      "execution_count": null,
      "outputs": []
    },
    {
      "cell_type": "code",
      "metadata": {
        "id": "LoB5v9Ixx_q_"
      },
      "source": [
        "%cd /content/drive/My Drive/test/WebOCR_identitycard\n",
        "\n",
        "!pip install -r requirements.txt \n",
        "\n",
        "!pip install --quiet vietocr==0.3.5\n",
        "\n",
        "!pip install flask-ngrok\n",
        "!pip install flask==0.12.2\n",
        "!pip install pyngrok\n",
        "\n",
        "# restart runtime\n",
        "os.kill(os.getpid(), 9)"
      ],
      "execution_count": null,
      "outputs": []
    },
    {
      "cell_type": "code",
      "metadata": {
        "id": "3ILSAD0iIvia"
      },
      "source": [
        "# Import\n",
        "py_file_location = \"/content/drive/My Drive/test/WebOCR_identitycard/app/templates/utils\"\n",
        "sys.path.append(os.path.abspath(py_file_location))\n",
        "%cd /content/drive/My Drive/test/WebOCR_identitycard/app/templates/utils\n",
        "import crop_image\n",
        "import detect_word"
      ],
      "execution_count": null,
      "outputs": []
    },
    {
      "cell_type": "code",
      "metadata": {
        "id": "NKCtt1owIXuL"
      },
      "source": [
        "%cd /content/drive/My Drive/test/WebOCR_identitycard/app/templates/model\n",
        "#Load model\n",
        "#Load model cropper\n",
        "model_crop = torch.hub.load('ultralytics/yolov5', 'custom', path='model_crop.pt')\n",
        "\n",
        "#Load model detecter\n",
        "model_detect = torch.hub.load('ultralytics/yolov5', 'custom', path='model_detect.pt')\n",
        "\n",
        "#Load model OCR (reader)\n",
        "from vietocr.tool.predictor import Predictor\n",
        "from vietocr.tool.config import Cfg\n",
        "config = Cfg.load_config_from_name('vgg_transformer')\n",
        "config['weights'] = 'transformerocr.pth'\n",
        "config['cnn']['pretrained']=False\n",
        "config['device'] = 'cpu'\n",
        "config['predictor']['beamsearch']=False\n",
        "\n",
        "detector = Predictor(config)\n"
      ],
      "execution_count": null,
      "outputs": []
    },
    {
      "cell_type": "code",
      "source": [
        "# restart runtime\n",
        "os.kill(os.getpid(), 9)"
      ],
      "metadata": {
        "id": "ZlcQa9Cvs80c"
      },
      "execution_count": null,
      "outputs": []
    },
    {
      "cell_type": "code",
      "metadata": {
        "id": "r9US2OY1qRRP"
      },
      "source": [
        "%cd /content/drive/My Drive/test/WebOCR_identitycard/app\n",
        "\n",
        "from flask import Flask, flash, request, redirect, url_for, render_template\n",
        "import urllib.request\n",
        "import os\n",
        "import threading\n",
        "from pyngrok import ngrok\n",
        "\n",
        "from werkzeug.utils import secure_filename\n",
        "\n",
        "# # run_with_ngrok\n",
        "# from flask_ngrok import run_with_ngrok \n",
        "# app = Flask(__name__)\n",
        "# run_with_ngrok(app)\n",
        "\n",
        "os.environ[\"FLASK_ENV\"] = \"development\"\n",
        "app = Flask(__name__)\n",
        "port = 5000\n",
        "# auth_token  -  https://dashboard.ngrok.com/get-started/your-authtoken\n",
        "ngrok.set_auth_token(\"[YOUR_TOKEN]\")\n",
        "# Open a ngrok tunnel to the HTTP server\n",
        "public_url = ngrok.connect(port).public_url\n",
        "\n",
        "print(\" * ngrok tunnel \\\"{}\\\" -> \\\"http://127.0.0.1:{}\\\"\".format(public_url, port))\n",
        "# Update any base URLs to use the public ngrok URL\n",
        "app.config[\"BASE_URL\"] = public_url  \n",
        "\n",
        "\n",
        "UPLOAD_FOLDER = 'static/uploads/'\n",
        " \n",
        "app.secret_key = \"secret key\"\n",
        "app.config['UPLOAD_FOLDER'] = UPLOAD_FOLDER\n",
        "app.config['MAX_CONTENT_LENGTH'] = 16 * 1024 * 1024\n",
        " \n",
        "ALLOWED_EXTENSIONS = set(['png', 'jpg', 'jpeg', 'gif'])\n",
        " \n",
        "def allowed_file(filename):\n",
        "    return '.' in filename and filename.rsplit('.', 1)[1].lower() in ALLOWED_EXTENSIONS\n",
        "     \n",
        " \n",
        "@app.route('/')\n",
        "def home():\n",
        "    return render_template('index.html')\n",
        "\n",
        "#Get image and OCR\n",
        "@app.route('/', methods=['POST'])\n",
        "def upload_image():\n",
        "    if 'file' not in request.files:\n",
        "        flash('No file part')\n",
        "        return redirect(request.url)\n",
        "    file = request.files['file']\n",
        "    if file.filename == '':\n",
        "        flash('No image selected for uploading')\n",
        "        return redirect(request.url)\n",
        "    if file and allowed_file(file.filename):\n",
        "        filename = secure_filename(file.filename)\n",
        "        file.save(os.path.join(app.config['UPLOAD_FOLDER'], filename))\n",
        "        #print('upload_image filename: ' + filename)\n",
        "\n",
        "#OCR\n",
        "        image = cv2.imread(os.path.join('static/uploads',filename))\n",
        "        # cv2_imshow(image)\n",
        "        # predict (Cropper)\n",
        "        results_crop = model_crop(image, size=640)\n",
        "        # crop\n",
        "        try:\n",
        "          for j in range(len(results_crop.xyxy)):\n",
        "            img_crop = crop_image.CropImg(results_crop.xyxy[j],results_crop.pandas().xyxy[j],image)\n",
        "        except BaseException:\n",
        "          return render_template('index.html', filename=filename, id =\"None\", name =\"None\", birth =\"None\", home =\"None\", add =\"None\")\n",
        "        # Detector\n",
        "        try:\n",
        "          results_detect = model_detect(img_crop, size=640)\n",
        "        except BaseException:\n",
        "          return render_template('index.html', filename=filename, id =\"None\", name =\"None\", birth =\"None\", home =\"None\", add =\"None\")\n",
        "        #OCR\n",
        "        try:\n",
        "          for j in range(len(results_detect.xyxy)):\n",
        "            dic = detect_word.OCR(results_detect.xyxy[j],results_detect.pandas().xyxy[j],img_crop, detector)\n",
        "        except BaseException:\n",
        "          return render_template('index.html', filename=filename, id =\"None\", name =\"None\", birth =\"None\", home =\"None\", add =\"None\")\n",
        "\n",
        "        # print(dic)\n",
        "        #miss infor\n",
        "        if \"id\" not in dic:\n",
        "          dic['id'] = 'None'\n",
        "        if \"name\" not in dic:\n",
        "          dic['name'] = 'None'\n",
        "        if \"birth\" not in dic:\n",
        "          dic['birth'] = 'None'\n",
        "        if \"home\" not in dic:\n",
        "          dic['home'] = 'None'\n",
        "        if \"add\" not in dic:\n",
        "          dic['add'] = 'None'\n",
        " \n",
        "        print(dic)\n",
        "        return render_template('index.html', filename=filename, id =dic[\"id\"], name =dic[\"name\"], birth =dic[\"birth\"], home =dic[\"home\"], add =dic[\"add\"])\n",
        "    \n",
        "    else:\n",
        "        flash('Allowed image types are - png, jpg, jpeg, gif')\n",
        "        return redirect(request.url)\n",
        " \n",
        "\n",
        "# Load image\n",
        "@app.route('/display/<filename>')\n",
        "def display_image(filename):\n",
        "    #print('display_image filename: ' + filename)\n",
        "    return redirect(url_for('static', filename='uploads/' + filename), code=301)\n",
        "\n",
        "# # run_with_ngrok \n",
        "# if __name__ == \"__main__\":\n",
        "#     app.run()\n",
        "\n",
        "# Start the Flask server in a new thread\n",
        "threading.Thread(target=app.run, kwargs={\"use_reloader\": False}).start()"
      ],
      "execution_count": null,
      "outputs": []
    }
  ]
}